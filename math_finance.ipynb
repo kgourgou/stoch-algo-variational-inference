{
 "cells": [
  {
   "cell_type": "code",
   "execution_count": 3,
   "metadata": {
    "collapsed": true
   },
   "outputs": [],
   "source": [
    "# Importing some python libraries and stuff. \n",
    "import matplotlib.pyplot as pl\n",
    "import numpy as np\n",
    "from numpy.random import randn\n",
    "import seaborn as sns\n",
    "%matplotlib inline\n",
    "# Fixing figure sizes\n",
    "from pylab import rcParams\n",
    "rcParams['figure.figsize'] = 10,7"
   ]
  },
  {
   "cell_type": "markdown",
   "metadata": {},
   "source": [
    "# Homework 2 "
   ]
  },
  {
   "cell_type": "markdown",
   "metadata": {},
   "source": [
    "## Statement of problem 1 \n",
    "\n",
    "A European Put option allows you to sell an asset at time $T$ for a price $k$. In\n",
    "some way, it is the opposite of the call option discussed in class. It’s payoff is\n",
    "$\\max(k − S_T ,0)$. Use these specifications: $S_0 = 25, \\sigma = 1, r = 0.01, K = 25$,and compute the prices of the option at times $T = 1,\\ldots, 5$. You don’t need to derive an analytic\n",
    "solution. It is enough to use one of the proposed approximation methods."
   ]
  },
  {
   "cell_type": "markdown",
   "metadata": {},
   "source": [
    "We will need a function that can produce the samples we require. "
   ]
  },
  {
   "cell_type": "code",
   "execution_count": 13,
   "metadata": {
    "collapsed": true
   },
   "outputs": [],
   "source": [
    "def pricingSamples(T, number_of_samples,S0=25, SIGMA=1,\n",
    "                   R=0.01, K=25):\n",
    "    '''\n",
    "        Produces samples of the selling price of an asset at time t=T,\n",
    "        given the parameters above. \n",
    "    '''\n",
    "    \n",
    "    z = randn(number_of_samples)\n",
    "    s_T = S0*np.exp((R-0.5*SIGMA**2)*T+SIGMA*np.sqrt(T)*z)\n",
    "    c = np.exp(-R*T)*(K-s_T)*((K-s_T)>0)\n",
    "    return c"
   ]
  },
  {
   "cell_type": "code",
   "execution_count": 27,
   "metadata": {
    "collapsed": false
   },
   "outputs": [
    {
     "name": "stdout",
     "output_type": "stream",
     "text": [
      "Price of option at T = 1 is equal to 9.4386244024\n",
      "Price of option at T = 2 is equal to 12.6174303195\n",
      "Price of option at T = 3 is equal to 14.7316053557\n",
      "Price of option at T = 4 is equal to 16.2558669038\n"
     ]
    }
   ],
   "source": [
    "def PriceOption(T):\n",
    "    samples = pricingSamples(T, 10000)\n",
    "    aver_price = np.mean(samples)\n",
    "    print 'Price of option at T =',T,'is equal to', aver_price\n",
    "    \n",
    "for i in range(1,5):\n",
    "    PriceOption(i)"
   ]
  },
  {
   "cell_type": "code",
   "execution_count": null,
   "metadata": {
    "collapsed": true
   },
   "outputs": [],
   "source": []
  }
 ],
 "metadata": {
  "kernelspec": {
   "display_name": "Python 2",
   "language": "python",
   "name": "python2"
  },
  "language_info": {
   "codemirror_mode": {
    "name": "ipython",
    "version": 2
   },
   "file_extension": ".py",
   "mimetype": "text/x-python",
   "name": "python",
   "nbconvert_exporter": "python",
   "pygments_lexer": "ipython2",
   "version": "2.7.11"
  }
 },
 "nbformat": 4,
 "nbformat_minor": 0
}
