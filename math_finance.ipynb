{
 "cells": [
  {
   "cell_type": "markdown",
   "metadata": {},
   "source": [
    "# Homework 2 "
   ]
  },
  {
   "cell_type": "markdown",
   "metadata": {},
   "source": [
    "## Statement of problem 1 \n",
    "\n",
    "A European Put option allows you to sell an asset at time $T$ for a price $k$. In\n",
    "some way it is the opposit of the call option discussed in class. It’s payoff is\n",
    "$\\max(k − S_T ,0)$. Use these specifications: $S_0 = 25, \\sigma = 1, r = 0.01, K = 25$ and compute the prices of the option at times $T = 1,\\ldots, 5$. You don’t need to derive an analytic\n",
    "solution. It is enough to use one of the proposed approximation methods."
   ]
  },
  {
   "cell_type": "code",
   "execution_count": null,
   "metadata": {
    "collapsed": true
   },
   "outputs": [],
   "source": []
  }
 ],
 "metadata": {
  "kernelspec": {
   "display_name": "Python 2",
   "language": "python",
   "name": "python2"
  },
  "language_info": {
   "codemirror_mode": {
    "name": "ipython",
    "version": 2
   },
   "file_extension": ".py",
   "mimetype": "text/x-python",
   "name": "python",
   "nbconvert_exporter": "python",
   "pygments_lexer": "ipython2",
   "version": "2.7.11"
  }
 },
 "nbformat": 4,
 "nbformat_minor": 0
}
